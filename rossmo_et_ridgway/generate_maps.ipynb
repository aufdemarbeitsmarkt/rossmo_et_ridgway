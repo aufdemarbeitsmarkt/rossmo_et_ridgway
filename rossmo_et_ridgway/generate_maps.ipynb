{
 "cells": [
  {
   "cell_type": "markdown",
   "id": "5a873199-e91e-40d2-acf4-2c0831e2f880",
   "metadata": {},
   "source": [
    "# Generate maps"
   ]
  },
  {
   "cell_type": "code",
   "execution_count": 2,
   "id": "84569742-ae8d-4766-a3ad-bbd6fc5744af",
   "metadata": {},
   "outputs": [],
   "source": [
    "from myst_nb import glue\n",
    "\n",
    "from rossmo_et_ridgway import Rossmo, RossmoPlot"
   ]
  },
  {
   "cell_type": "code",
   "execution_count": 3,
   "id": "22c6683a-0bcb-469b-bc45-4eab6a3517cd",
   "metadata": {},
   "outputs": [],
   "source": [
    "# read in dataframes created in data_cleanup.ipynb\n",
    "%store -r df_body_locations_final\n",
    "%store -r df_disappearances_final\n",
    "%store -r df_ridgway_final"
   ]
  },
  {
   "cell_type": "code",
   "execution_count": 4,
   "id": "dcafb904-d395-44ad-855e-930755140fe7",
   "metadata": {},
   "outputs": [
    {
     "data": {
      "application/papermill.record/text/html": "<div>\n<style scoped>\n    .dataframe tbody tr th:only-of-type {\n        vertical-align: middle;\n    }\n\n    .dataframe tbody tr th {\n        vertical-align: top;\n    }\n\n    .dataframe thead th {\n        text-align: right;\n    }\n</style>\n<table border=\"1\" class=\"dataframe\">\n  <thead>\n    <tr style=\"text-align: right;\">\n      <th></th>\n      <th>name</th>\n      <th>latitude</th>\n      <th>longitude</th>\n      <th>age</th>\n      <th>date</th>\n      <th>notes</th>\n    </tr>\n  </thead>\n  <tbody>\n    <tr>\n      <th>0</th>\n      <td>Alma Ann Smith</td>\n      <td>47.353620</td>\n      <td>-122.284214</td>\n      <td>18</td>\n      <td>April 2, 1984</td>\n      <td>Smith's remains... were discovered ... in the ...</td>\n    </tr>\n    <tr>\n      <th>1</th>\n      <td>Andrea Marion Childers</td>\n      <td>47.431491</td>\n      <td>-122.301034</td>\n      <td>19</td>\n      <td>October 11, 1989</td>\n      <td>...the killer left four women at 25th South an...</td>\n    </tr>\n    <tr>\n      <th>2</th>\n      <td>April Dawn Buttram</td>\n      <td>47.510329</td>\n      <td>-121.881953</td>\n      <td>17</td>\n      <td>August 30, 2003</td>\n      <td>...a site north of the intersection of Interst...</td>\n    </tr>\n    <tr>\n      <th>3</th>\n      <td>Carol Ann Christensen</td>\n      <td>47.383543</td>\n      <td>-122.031314</td>\n      <td>21</td>\n      <td>May 8, 1983</td>\n      <td>Carol Christensen was found... in the Maple Va...</td>\n    </tr>\n    <tr>\n      <th>4</th>\n      <td>Carrie Ann Rois</td>\n      <td>47.353691</td>\n      <td>-122.283844</td>\n      <td>15</td>\n      <td>March 10, 1985</td>\n      <td>Carrie's remains were found... in a relatively...</td>\n    </tr>\n    <tr>\n      <th>5</th>\n      <td>Cheryl Lee Wims</td>\n      <td>47.471503</td>\n      <td>-122.312013</td>\n      <td>18</td>\n      <td>March 22, 1984</td>\n      <td>...police discovered Chery's remains a few hun...</td>\n    </tr>\n    <tr>\n      <th>6</th>\n      <td>Cindy Anne Smith</td>\n      <td>47.320614</td>\n      <td>-122.166504</td>\n      <td>17</td>\n      <td>June 27, 1987</td>\n      <td>...two children were playing in a ditch alongs...</td>\n    </tr>\n    <tr>\n      <th>7</th>\n      <td>Colleen Renee Brockman</td>\n      <td>47.255103</td>\n      <td>-122.277678</td>\n      <td>15</td>\n      <td>May 26, 1984</td>\n      <td>...three youths found Colleen's remains in nor...</td>\n    </tr>\n    <tr>\n      <th>8</th>\n      <td>Constance Elizabeth Naon</td>\n      <td>47.431480</td>\n      <td>-122.301078</td>\n      <td>20</td>\n      <td>October 27, 1983</td>\n      <td>...the killer left four women at 25th South an...</td>\n    </tr>\n    <tr>\n      <th>9</th>\n      <td>Debbie May Abernathy</td>\n      <td>47.170989</td>\n      <td>-121.765084</td>\n      <td>26</td>\n      <td>March 31, 1984</td>\n      <td>...an elk hunter discovered her Debbie's skele...</td>\n    </tr>\n    <tr>\n      <th>10</th>\n      <td>Debra Lorraine Estes</td>\n      <td>47.291666</td>\n      <td>-122.334177</td>\n      <td>15</td>\n      <td>May 30, 1988</td>\n      <td>...construction workers, digging holes for a p...</td>\n    </tr>\n    <tr>\n      <th>11</th>\n      <td>Delise Louise Plager</td>\n      <td>47.430958</td>\n      <td>-121.635093</td>\n      <td>22</td>\n      <td>February 14, 1984</td>\n      <td>...Delise's remains were discovered at Exit 38...</td>\n    </tr>\n    <tr>\n      <th>12</th>\n      <td>Delores LaVerne Williams</td>\n      <td>47.353669</td>\n      <td>-122.283597</td>\n      <td>17</td>\n      <td>March 31, 1984</td>\n      <td>...Delores' skeletal remains were discovered n...</td>\n    </tr>\n    <tr>\n      <th>13</th>\n      <td>Denise Darcel Bush</td>\n      <td>45.415568</td>\n      <td>-122.820438</td>\n      <td>23</td>\n      <td>June 12, 1985</td>\n      <td>In June 1985, a construction crew discovered D...</td>\n    </tr>\n    <tr>\n      <th>14</th>\n      <td>Shirley Marie Sherrill</td>\n      <td>45.415568</td>\n      <td>-122.820438</td>\n      <td>18</td>\n      <td>June 14, 1985</td>\n      <td>...construction crews found most of Shirley's ...</td>\n    </tr>\n    <tr>\n      <th>15</th>\n      <td>Gail Lynn Mathews</td>\n      <td>47.354439</td>\n      <td>-122.281995</td>\n      <td>23</td>\n      <td>September 18, 1983</td>\n      <td>Gail Matthews's remains wer found on Star Lake...</td>\n    </tr>\n    <tr>\n      <th>16</th>\n      <td>Gisele Ann Lovvorn</td>\n      <td>47.422760</td>\n      <td>-122.310568</td>\n      <td>19</td>\n      <td>September 25, 1982</td>\n      <td>Gisele's remains were found... near South 200t...</td>\n    </tr>\n    <tr>\n      <th>17</th>\n      <td>Cynthia Jean Hinds</td>\n      <td>47.369388</td>\n      <td>-122.234297</td>\n      <td>17</td>\n      <td>August 15, 1982</td>\n      <td>...a man rafting down the Green River spotted ...</td>\n    </tr>\n    <tr>\n      <th>18</th>\n      <td>Debra Lynn Bonner</td>\n      <td>47.369380</td>\n      <td>-122.234290</td>\n      <td>23</td>\n      <td>August 12, 1982</td>\n      <td>... she was discovered in the Green River. Her...</td>\n    </tr>\n    <tr>\n      <th>19</th>\n      <td>Marcia Fay Chapman</td>\n      <td>47.369380</td>\n      <td>-122.234290</td>\n      <td>31</td>\n      <td>August 15, 1982</td>\n      <td>...a man rafting down the Green River spotted ...</td>\n    </tr>\n    <tr>\n      <th>20</th>\n      <td>Opal Charmaine Mills</td>\n      <td>47.369380</td>\n      <td>-122.234290</td>\n      <td>16</td>\n      <td>August 15, 1982</td>\n      <td>...a man rafting down the Green River spotted ...</td>\n    </tr>\n    <tr>\n      <th>21</th>\n      <td>Jane Doe B-17</td>\n      <td>47.306001</td>\n      <td>-122.258482</td>\n      <td>14 - 17</td>\n      <td>January 2, 1986</td>\n      <td>...Mountainview Drive, where a car had gone of...</td>\n    </tr>\n    <tr>\n      <th>22</th>\n      <td>Kimi-Kai Pitsor</td>\n      <td>47.306016</td>\n      <td>-122.258460</td>\n      <td>16</td>\n      <td>December 14 - December 18, 1983</td>\n      <td>Pitsor's skull was discovered at Mountview Cem...</td>\n    </tr>\n    <tr>\n      <th>23</th>\n      <td>Jane Doe B-20</td>\n      <td>47.392604</td>\n      <td>-122.305512</td>\n      <td>13 - 24</td>\n      <td>August 21, 2003</td>\n      <td>...Ridgway described a site off the Kent-Des M...</td>\n    </tr>\n    <tr>\n      <th>24</th>\n      <td>Kelly Marie Ware</td>\n      <td>47.431479</td>\n      <td>-122.301142</td>\n      <td>22</td>\n      <td>October 29, 1983</td>\n      <td>...the killer left four women at 25th South an...</td>\n    </tr>\n    <tr>\n      <th>25</th>\n      <td>Kimberly L. Nelson</td>\n      <td>47.430950</td>\n      <td>-121.635090</td>\n      <td>21</td>\n      <td>June 14, 1986</td>\n      <td>...Kim's skull and a few bones were recovered ...</td>\n    </tr>\n    <tr>\n      <th>26</th>\n      <td>Lisa Yates</td>\n      <td>47.430950</td>\n      <td>-121.635090</td>\n      <td>19</td>\n      <td>March 13, 1984</td>\n      <td>...a soldier in a convoy that stopped at Exit ...</td>\n    </tr>\n    <tr>\n      <th>27</th>\n      <td>Linda Jane Rule</td>\n      <td>47.714730</td>\n      <td>-122.337102</td>\n      <td>16</td>\n      <td>January 31, 1983</td>\n      <td>Ridgway announced that he had killed a woman a...</td>\n    </tr>\n    <tr>\n      <th>28</th>\n      <td>Marie M. Malvar</td>\n      <td>47.339688</td>\n      <td>-122.253546</td>\n      <td>18</td>\n      <td>September 26, 2003</td>\n      <td>\\n\\nHer body was found September 27, 2003 in t...</td>\n    </tr>\n    <tr>\n      <th>29</th>\n      <td>Marta Reeves</td>\n      <td>47.166295</td>\n      <td>-121.812542</td>\n      <td>36</td>\n      <td>September 20, 1990</td>\n      <td>...a couple of mushroom pickers found Marta's ...</td>\n    </tr>\n    <tr>\n      <th>30</th>\n      <td>Martina Theresa Authorlee</td>\n      <td>47.175142</td>\n      <td>-121.795686</td>\n      <td>18</td>\n      <td>November 14, 1984</td>\n      <td>...two elk hunters discovered Martina's remain...</td>\n    </tr>\n    <tr>\n      <th>31</th>\n      <td>Mary Bridget Meehan</td>\n      <td>47.431480</td>\n      <td>-122.301070</td>\n      <td>18</td>\n      <td>November 13, 1983</td>\n      <td>...the killer left four women at 25th South an...</td>\n    </tr>\n    <tr>\n      <th>32</th>\n      <td>Mary Exzetta West</td>\n      <td>47.550260</td>\n      <td>-122.264850</td>\n      <td>16</td>\n      <td>September 8, 1985</td>\n      <td>...a teacher on a field trip found Mary's skul...</td>\n    </tr>\n    <tr>\n      <th>33</th>\n      <td>Mary Sue Bello</td>\n      <td>47.168490</td>\n      <td>-121.811999</td>\n      <td>25</td>\n      <td>October 12, 1984</td>\n      <td>...a mushroom picker discovered Mary's skeleta...</td>\n    </tr>\n    <tr>\n      <th>34</th>\n      <td>Maureen Sue Feeney</td>\n      <td>47.504697</td>\n      <td>-121.884685</td>\n      <td>19</td>\n      <td>May 2, 1986</td>\n      <td>...an employee at the Echo Glen juvenile deten...</td>\n    </tr>\n    <tr>\n      <th>35</th>\n      <td>Pammy Annette Avent</td>\n      <td>47.197294</td>\n      <td>-121.949440</td>\n      <td>16</td>\n      <td>August 16, 2003</td>\n      <td>...the south side of Highway 410 across the st...</td>\n    </tr>\n    <tr>\n      <th>36</th>\n      <td>Patricia Michelle Barczak</td>\n      <td>47.326556</td>\n      <td>-122.159705</td>\n      <td>19</td>\n      <td>February 3, 1993</td>\n      <td>...a road worker found her skull just off High...</td>\n    </tr>\n    <tr>\n      <th>37</th>\n      <td>Patricia Yellowrobe</td>\n      <td>47.513012</td>\n      <td>-122.310617</td>\n      <td>38</td>\n      <td>August 6, 1998</td>\n      <td>...the owner of a South Park, King County, bus...</td>\n    </tr>\n    <tr>\n      <th>38</th>\n      <td>Roberta Joseph Hayes</td>\n      <td>47.174534</td>\n      <td>-121.777488</td>\n      <td>21</td>\n      <td>September 11, 1991</td>\n      <td>...a Washington State Parks employee discovere...</td>\n    </tr>\n    <tr>\n      <th>39</th>\n      <td>Sandra Denise Major</td>\n      <td>47.306010</td>\n      <td>-122.258460</td>\n      <td>20</td>\n      <td>December 30, 1985</td>\n      <td>...Mountainview Drive, where a car had gone of...</td>\n    </tr>\n    <tr>\n      <th>40</th>\n      <td>Sandra Kay Gabbert</td>\n      <td>47.353453</td>\n      <td>-122.284712</td>\n      <td>17</td>\n      <td>April 1, 1984</td>\n      <td>Smith's remains... were discovered ... in the ...</td>\n    </tr>\n    <tr>\n      <th>41</th>\n      <td>Shawnda Lee Summers</td>\n      <td>47.472604</td>\n      <td>-122.302672</td>\n      <td>16</td>\n      <td>August 11, 1983</td>\n      <td>Shawnda's remains were found near the northwes...</td>\n    </tr>\n    <tr>\n      <th>42</th>\n      <td>Terry Rene Milligan</td>\n      <td>47.353494</td>\n      <td>-122.264595</td>\n      <td>16</td>\n      <td>April 1, 1984</td>\n      <td>...Terry's skeletal remains were discovered ne...</td>\n    </tr>\n    <tr>\n      <th>43</th>\n      <td>Tina Marie Thompson</td>\n      <td>47.508216</td>\n      <td>-121.883755</td>\n      <td>22</td>\n      <td>April 20, 1984</td>\n      <td>Tina's remains were discovered near the inters...</td>\n    </tr>\n    <tr>\n      <th>44</th>\n      <td>Tracy Winston</td>\n      <td>47.377333</td>\n      <td>-122.256980</td>\n      <td>19</td>\n      <td>March 27, 1986</td>\n      <td>...two park employees discovered human remains...</td>\n    </tr>\n    <tr>\n      <th>45</th>\n      <td>Wendy Lee Coffield</td>\n      <td>47.377330</td>\n      <td>-122.256970</td>\n      <td>16</td>\n      <td>July 15, 1982</td>\n      <td>...two boys on bicycles on the Peck Bridge in ...</td>\n    </tr>\n    <tr>\n      <th>46</th>\n      <td>Wendy Stephens</td>\n      <td>47.472320</td>\n      <td>-122.313030</td>\n      <td>14</td>\n      <td>March 21, 1984</td>\n      <td>...just west of the intersection of 16th Avenu...</td>\n    </tr>\n    <tr>\n      <th>47</th>\n      <td>Yvonne \"Shelly\" Antosh</td>\n      <td>47.315905</td>\n      <td>-122.154884</td>\n      <td>19</td>\n      <td>October 15, 1983</td>\n      <td>...two boys discovered Shelly's remains about ...</td>\n    </tr>\n  </tbody>\n</table>\n</div>",
      "application/papermill.record/text/plain": "                         name   latitude   longitude      age  \\\n0              Alma Ann Smith  47.353620 -122.284214       18   \n1      Andrea Marion Childers  47.431491 -122.301034       19   \n2          April Dawn Buttram  47.510329 -121.881953       17   \n3       Carol Ann Christensen  47.383543 -122.031314       21   \n4             Carrie Ann Rois  47.353691 -122.283844       15   \n5             Cheryl Lee Wims  47.471503 -122.312013       18   \n6            Cindy Anne Smith  47.320614 -122.166504       17   \n7      Colleen Renee Brockman  47.255103 -122.277678       15   \n8    Constance Elizabeth Naon  47.431480 -122.301078       20   \n9        Debbie May Abernathy  47.170989 -121.765084       26   \n10       Debra Lorraine Estes  47.291666 -122.334177       15   \n11       Delise Louise Plager  47.430958 -121.635093       22   \n12   Delores LaVerne Williams  47.353669 -122.283597       17   \n13         Denise Darcel Bush  45.415568 -122.820438       23   \n14     Shirley Marie Sherrill  45.415568 -122.820438       18   \n15          Gail Lynn Mathews  47.354439 -122.281995       23   \n16         Gisele Ann Lovvorn  47.422760 -122.310568       19   \n17         Cynthia Jean Hinds  47.369388 -122.234297       17   \n18          Debra Lynn Bonner  47.369380 -122.234290       23   \n19         Marcia Fay Chapman  47.369380 -122.234290       31   \n20       Opal Charmaine Mills  47.369380 -122.234290       16   \n21              Jane Doe B-17  47.306001 -122.258482  14 - 17   \n22            Kimi-Kai Pitsor  47.306016 -122.258460       16   \n23              Jane Doe B-20  47.392604 -122.305512  13 - 24   \n24           Kelly Marie Ware  47.431479 -122.301142       22   \n25         Kimberly L. Nelson  47.430950 -121.635090       21   \n26                 Lisa Yates  47.430950 -121.635090       19   \n27            Linda Jane Rule  47.714730 -122.337102       16   \n28            Marie M. Malvar  47.339688 -122.253546       18   \n29               Marta Reeves  47.166295 -121.812542       36   \n30  Martina Theresa Authorlee  47.175142 -121.795686       18   \n31        Mary Bridget Meehan  47.431480 -122.301070       18   \n32          Mary Exzetta West  47.550260 -122.264850       16   \n33             Mary Sue Bello  47.168490 -121.811999       25   \n34         Maureen Sue Feeney  47.504697 -121.884685       19   \n35        Pammy Annette Avent  47.197294 -121.949440       16   \n36  Patricia Michelle Barczak  47.326556 -122.159705       19   \n37        Patricia Yellowrobe  47.513012 -122.310617       38   \n38       Roberta Joseph Hayes  47.174534 -121.777488       21   \n39        Sandra Denise Major  47.306010 -122.258460       20   \n40         Sandra Kay Gabbert  47.353453 -122.284712       17   \n41        Shawnda Lee Summers  47.472604 -122.302672       16   \n42        Terry Rene Milligan  47.353494 -122.264595       16   \n43        Tina Marie Thompson  47.508216 -121.883755       22   \n44              Tracy Winston  47.377333 -122.256980       19   \n45         Wendy Lee Coffield  47.377330 -122.256970       16   \n46             Wendy Stephens  47.472320 -122.313030       14   \n47     Yvonne \"Shelly\" Antosh  47.315905 -122.154884       19   \n\n                               date  \\\n0                     April 2, 1984   \n1                  October 11, 1989   \n2                   August 30, 2003   \n3                       May 8, 1983   \n4                    March 10, 1985   \n5                    March 22, 1984   \n6                     June 27, 1987   \n7                      May 26, 1984   \n8                  October 27, 1983   \n9                    March 31, 1984   \n10                     May 30, 1988   \n11                February 14, 1984   \n12                   March 31, 1984   \n13                    June 12, 1985   \n14                    June 14, 1985   \n15               September 18, 1983   \n16               September 25, 1982   \n17                  August 15, 1982   \n18                  August 12, 1982   \n19                  August 15, 1982   \n20                  August 15, 1982   \n21                  January 2, 1986   \n22  December 14 - December 18, 1983   \n23                  August 21, 2003   \n24                 October 29, 1983   \n25                    June 14, 1986   \n26                   March 13, 1984   \n27                 January 31, 1983   \n28               September 26, 2003   \n29               September 20, 1990   \n30                November 14, 1984   \n31                November 13, 1983   \n32                September 8, 1985   \n33                 October 12, 1984   \n34                      May 2, 1986   \n35                  August 16, 2003   \n36                 February 3, 1993   \n37                   August 6, 1998   \n38               September 11, 1991   \n39                December 30, 1985   \n40                    April 1, 1984   \n41                  August 11, 1983   \n42                    April 1, 1984   \n43                   April 20, 1984   \n44                   March 27, 1986   \n45                    July 15, 1982   \n46                   March 21, 1984   \n47                 October 15, 1983   \n\n                                                notes  \n0   Smith's remains... were discovered ... in the ...  \n1   ...the killer left four women at 25th South an...  \n2   ...a site north of the intersection of Interst...  \n3   Carol Christensen was found... in the Maple Va...  \n4   Carrie's remains were found... in a relatively...  \n5   ...police discovered Chery's remains a few hun...  \n6   ...two children were playing in a ditch alongs...  \n7   ...three youths found Colleen's remains in nor...  \n8   ...the killer left four women at 25th South an...  \n9   ...an elk hunter discovered her Debbie's skele...  \n10  ...construction workers, digging holes for a p...  \n11  ...Delise's remains were discovered at Exit 38...  \n12  ...Delores' skeletal remains were discovered n...  \n13  In June 1985, a construction crew discovered D...  \n14  ...construction crews found most of Shirley's ...  \n15  Gail Matthews's remains wer found on Star Lake...  \n16  Gisele's remains were found... near South 200t...  \n17  ...a man rafting down the Green River spotted ...  \n18  ... she was discovered in the Green River. Her...  \n19  ...a man rafting down the Green River spotted ...  \n20  ...a man rafting down the Green River spotted ...  \n21  ...Mountainview Drive, where a car had gone of...  \n22  Pitsor's skull was discovered at Mountview Cem...  \n23  ...Ridgway described a site off the Kent-Des M...  \n24  ...the killer left four women at 25th South an...  \n25  ...Kim's skull and a few bones were recovered ...  \n26  ...a soldier in a convoy that stopped at Exit ...  \n27  Ridgway announced that he had killed a woman a...  \n28  \\n\\nHer body was found September 27, 2003 in t...  \n29  ...a couple of mushroom pickers found Marta's ...  \n30  ...two elk hunters discovered Martina's remain...  \n31  ...the killer left four women at 25th South an...  \n32  ...a teacher on a field trip found Mary's skul...  \n33  ...a mushroom picker discovered Mary's skeleta...  \n34  ...an employee at the Echo Glen juvenile deten...  \n35  ...the south side of Highway 410 across the st...  \n36  ...a road worker found her skull just off High...  \n37  ...the owner of a South Park, King County, bus...  \n38  ...a Washington State Parks employee discovere...  \n39  ...Mountainview Drive, where a car had gone of...  \n40  Smith's remains... were discovered ... in the ...  \n41  Shawnda's remains were found near the northwes...  \n42  ...Terry's skeletal remains were discovered ne...  \n43  Tina's remains were discovered near the inters...  \n44  ...two park employees discovered human remains...  \n45  ...two boys on bicycles on the Peck Bridge in ...  \n46  ...just west of the intersection of 16th Avenu...  \n47  ...two boys discovered Shelly's remains about ...  "
     },
     "metadata": {
      "scrapbook": {
       "mime_prefix": "application/papermill.record/",
       "name": "df_body_locations_final"
      }
     },
     "output_type": "display_data"
    },
    {
     "data": {
      "application/papermill.record/text/html": "<div>\n<style scoped>\n    .dataframe tbody tr th:only-of-type {\n        vertical-align: middle;\n    }\n\n    .dataframe tbody tr th {\n        vertical-align: top;\n    }\n\n    .dataframe thead th {\n        text-align: right;\n    }\n</style>\n<table border=\"1\" class=\"dataframe\">\n  <thead>\n    <tr style=\"text-align: right;\">\n      <th></th>\n      <th>name</th>\n      <th>latitude</th>\n      <th>longitude</th>\n      <th>age</th>\n      <th>date</th>\n      <th>notes</th>\n    </tr>\n  </thead>\n  <tbody>\n    <tr>\n      <th>0</th>\n      <td>Alma Ann Smith</td>\n      <td>47.435539</td>\n      <td>-122.294486</td>\n      <td>18</td>\n      <td>March 3, 1983</td>\n      <td>Alma Smith was last seen... in front of the Re...</td>\n    </tr>\n    <tr>\n      <th>1</th>\n      <td>Andrea Marion Childers</td>\n      <td>47.612925</td>\n      <td>-122.304973</td>\n      <td>19</td>\n      <td>April 14, 1983</td>\n      <td>She was last seen in Seattle at a bus stop loc...</td>\n    </tr>\n    <tr>\n      <th>2</th>\n      <td>April Dawn Buttram</td>\n      <td>47.536954</td>\n      <td>-122.270295</td>\n      <td>17</td>\n      <td>August 18, 1983</td>\n      <td>Her pimp stated that he last saw her on Rainie...</td>\n    </tr>\n    <tr>\n      <th>3</th>\n      <td>Carol Ann Christensen</td>\n      <td>47.469607</td>\n      <td>-122.287109</td>\n      <td>21</td>\n      <td>May 3, 1983</td>\n      <td>... Carol Christensen left the Barn Door Taver...</td>\n    </tr>\n    <tr>\n      <th>4</th>\n      <td>Carrie Ann Rois</td>\n      <td>47.475779</td>\n      <td>-122.284142</td>\n      <td>15</td>\n      <td>May 31 - June 15, 1983</td>\n      <td>...the circumstances of her disappearance are ...</td>\n    </tr>\n    <tr>\n      <th>5</th>\n      <td>Cheryl Lee Wims</td>\n      <td>47.584511</td>\n      <td>-122.305553</td>\n      <td>18</td>\n      <td>May 23, 1983</td>\n      <td>...Cheryl Wims disappeared from the streets of...</td>\n    </tr>\n    <tr>\n      <th>6</th>\n      <td>Cindy Anne Smith</td>\n      <td>47.422140</td>\n      <td>-122.297608</td>\n      <td>17</td>\n      <td>March 21, 1984</td>\n      <td>...Cindy left her parents' home in Des Moines ...</td>\n    </tr>\n    <tr>\n      <th>7</th>\n      <td>Colleen Renee Brockman</td>\n      <td>47.592023</td>\n      <td>-122.326415</td>\n      <td>15</td>\n      <td>December 24, 1982</td>\n      <td>Colleen Brockman... made plans to meet an acqu...</td>\n    </tr>\n    <tr>\n      <th>8</th>\n      <td>Constance Elizabeth Naon</td>\n      <td>47.435612</td>\n      <td>-122.294507</td>\n      <td>20</td>\n      <td>June 8, 1983</td>\n      <td>...outside the Red Lion Inn at 188th Street an...</td>\n    </tr>\n    <tr>\n      <th>9</th>\n      <td>Cynthia Jean Hinds</td>\n      <td>47.422670</td>\n      <td>-122.296383</td>\n      <td>17</td>\n      <td>August 11, 1982</td>\n      <td>...Cynthia Hinds was out on Pacific Highway So...</td>\n    </tr>\n    <tr>\n      <th>10</th>\n      <td>Debbie May Abernathy</td>\n      <td>47.612069</td>\n      <td>-122.332214</td>\n      <td>26</td>\n      <td>September 5, 1983</td>\n      <td>During that period of time, Debbie worked as a...</td>\n    </tr>\n    <tr>\n      <th>11</th>\n      <td>Debra Lorraine Estes</td>\n      <td>47.301823</td>\n      <td>-122.312597</td>\n      <td>15</td>\n      <td>September 20, 1982</td>\n      <td>...that day, Debra was seen near the Stevenson...</td>\n    </tr>\n    <tr>\n      <th>12</th>\n      <td>Debra Lynn Bonner</td>\n      <td>47.408226</td>\n      <td>-122.298240</td>\n      <td>23</td>\n      <td>July 25, 1982</td>\n      <td>Debra Bonner was last seen alive... when she l...</td>\n    </tr>\n    <tr>\n      <th>13</th>\n      <td>Delise Louise Plager</td>\n      <td>47.552585</td>\n      <td>-122.300937</td>\n      <td>22</td>\n      <td>October 30, 1983</td>\n      <td>...she was dropped off at a bus stop in Seattl...</td>\n    </tr>\n    <tr>\n      <th>14</th>\n      <td>Delores LaVerne Williams</td>\n      <td>47.435536</td>\n      <td>-122.294490</td>\n      <td>17</td>\n      <td>March 8 - 17, 1983</td>\n      <td>...outside the Red Lion Inn at 188th Street an...</td>\n    </tr>\n    <tr>\n      <th>15</th>\n      <td>Denise Darcel Bush</td>\n      <td>47.473158</td>\n      <td>-122.284547</td>\n      <td>23</td>\n      <td>October 8, 1982</td>\n      <td>She and an acquaintance were staying at the Mo...</td>\n    </tr>\n    <tr>\n      <th>16</th>\n      <td>Gail Lynn Mathews</td>\n      <td>47.408292</td>\n      <td>-122.298350</td>\n      <td>23</td>\n      <td>April 10, 1983</td>\n      <td>The truck was sitting in the left-hand turn la...</td>\n    </tr>\n    <tr>\n      <th>17</th>\n      <td>Gisele Ann Lovvorn</td>\n      <td>47.436210</td>\n      <td>-122.340680</td>\n      <td>19</td>\n      <td>July 17, 1982</td>\n      <td>Gisele Lovvorn was... working... on Pacific Hi...</td>\n    </tr>\n    <tr>\n      <th>18</th>\n      <td>Kelly Marie Ware</td>\n      <td>47.618448</td>\n      <td>-122.303651</td>\n      <td>22</td>\n      <td>July 18, 1983</td>\n      <td>Her sister reported that Kelly was afraid to w...</td>\n    </tr>\n    <tr>\n      <th>19</th>\n      <td>Kimberly L. Nelson</td>\n      <td>47.476839</td>\n      <td>-122.283171</td>\n      <td>21</td>\n      <td>November 1, 1983</td>\n      <td>On October 30, 1983, she was released from the...</td>\n    </tr>\n    <tr>\n      <th>20</th>\n      <td>Kimi-Kai Pitsor</td>\n      <td>47.605024</td>\n      <td>-122.334371</td>\n      <td>16</td>\n      <td>April 17, 1983</td>\n      <td>Kimi-Kai Pitsor was last seen... at about ten ...</td>\n    </tr>\n    <tr>\n      <th>21</th>\n      <td>Linda Jane Rule</td>\n      <td>47.716933</td>\n      <td>-122.345525</td>\n      <td>16</td>\n      <td>September 26, 1982</td>\n      <td>Linda Rule was last seen... while she was on h...</td>\n    </tr>\n    <tr>\n      <th>22</th>\n      <td>Lisa Yates</td>\n      <td>47.549709</td>\n      <td>-122.277116</td>\n      <td>19</td>\n      <td>December 23, 1983</td>\n      <td>...last saw Lisa sometime in December 1983. Sh...</td>\n    </tr>\n    <tr>\n      <th>23</th>\n      <td>Marcia Fay Chapman</td>\n      <td>47.434604</td>\n      <td>-122.295609</td>\n      <td>31</td>\n      <td>August 1, 1982</td>\n      <td>Marcia Chapman was living with her three child...</td>\n    </tr>\n    <tr>\n      <th>24</th>\n      <td>Marta Reeves</td>\n      <td>47.608758</td>\n      <td>-122.296424</td>\n      <td>36</td>\n      <td>March 5, 1990</td>\n      <td>She spent most of her time in the Central Dist...</td>\n    </tr>\n    <tr>\n      <th>25</th>\n      <td>Marie M. Malvar</td>\n      <td>47.408797</td>\n      <td>-122.297953</td>\n      <td>18</td>\n      <td>April 30, 1983</td>\n      <td>Marie's boyfriend saw her get into a dark-colo...</td>\n    </tr>\n    <tr>\n      <th>26</th>\n      <td>Martina Theresa Authorlee</td>\n      <td>47.437655</td>\n      <td>-122.296528</td>\n      <td>18</td>\n      <td>May 22, 1983</td>\n      <td>...Martina was living at the Moonrise Motel at...</td>\n    </tr>\n    <tr>\n      <th>27</th>\n      <td>Mary Bridget Meehan</td>\n      <td>47.455221</td>\n      <td>-122.292887</td>\n      <td>18</td>\n      <td>September 15, 1982</td>\n      <td>...Mary Meehan disappeared some time after 8:3...</td>\n    </tr>\n    <tr>\n      <th>28</th>\n      <td>Mary Exzetta West</td>\n      <td>47.557850</td>\n      <td>-122.285058</td>\n      <td>16</td>\n      <td>February 6, 1984</td>\n      <td>...Mary West worked as a prostitute in Seattle...</td>\n    </tr>\n    <tr>\n      <th>29</th>\n      <td>Mary Sue Bello</td>\n      <td>47.384057</td>\n      <td>-122.297160</td>\n      <td>25</td>\n      <td>October 11, 1983</td>\n      <td>...at approximately five P.M., Mary left downt...</td>\n    </tr>\n    <tr>\n      <th>30</th>\n      <td>Maureen Sue Feeney</td>\n      <td>47.614621</td>\n      <td>-122.312018</td>\n      <td>19</td>\n      <td>September 28, 1983</td>\n      <td>In August 1983, 19-year-old, Maureen Feeney mo...</td>\n    </tr>\n    <tr>\n      <th>31</th>\n      <td>Opal Charmaine Mills</td>\n      <td>47.428313</td>\n      <td>-122.294627</td>\n      <td>16</td>\n      <td>August 12, 1982</td>\n      <td>Opal Mills placed a call to her parents from A...</td>\n    </tr>\n    <tr>\n      <th>32</th>\n      <td>Pammy Annette Avent</td>\n      <td>47.536055</td>\n      <td>-122.275231</td>\n      <td>16</td>\n      <td>October 26, 1983</td>\n      <td>...she left her mother's Rainier Valley home i...</td>\n    </tr>\n    <tr>\n      <th>33</th>\n      <td>Patricia Michelle Barczak</td>\n      <td>47.478834</td>\n      <td>-122.284051</td>\n      <td>19</td>\n      <td>October 17, 1986</td>\n      <td>She had been staying at the Airporter Motel on...</td>\n    </tr>\n    <tr>\n      <th>34</th>\n      <td>Patricia Yellowrobe</td>\n      <td>47.606209</td>\n      <td>-122.332071</td>\n      <td>38</td>\n      <td>January 1998</td>\n      <td>...last seen in the Seattle area. [2]</td>\n    </tr>\n    <tr>\n      <th>35</th>\n      <td>Roberta Joseph Hayes</td>\n      <td>47.608863</td>\n      <td>-122.340071</td>\n      <td>21</td>\n      <td>February 7, 1987</td>\n      <td>She disappeared sometime in early 1987. The la...</td>\n    </tr>\n    <tr>\n      <th>36</th>\n      <td>Sandra Kay Gabbert</td>\n      <td>47.475769</td>\n      <td>-122.284166</td>\n      <td>17</td>\n      <td>April 17, 1983</td>\n      <td>...last saw her at the 7-Eleven at 142nd and P...</td>\n    </tr>\n    <tr>\n      <th>37</th>\n      <td>Shawnda Lee Summers</td>\n      <td>47.384057</td>\n      <td>-122.297160</td>\n      <td>16</td>\n      <td>October 9, 1982</td>\n      <td>She was known to work as a prostitute along Pa...</td>\n    </tr>\n    <tr>\n      <th>38</th>\n      <td>Shirley Marie Sherrill</td>\n      <td>47.598712</td>\n      <td>-122.323976</td>\n      <td>18</td>\n      <td>October 20 – 22, 1982</td>\n      <td>...last saw Shirley when he dropped her off in...</td>\n    </tr>\n    <tr>\n      <th>39</th>\n      <td>Terry Rene Milligan</td>\n      <td>47.473157</td>\n      <td>-122.284543</td>\n      <td>16</td>\n      <td>August 29, 1982</td>\n      <td>She - like victims Denish Bush ... and Martina...</td>\n    </tr>\n    <tr>\n      <th>40</th>\n      <td>Tina Marie Thompson</td>\n      <td>47.473064</td>\n      <td>-122.284259</td>\n      <td>22</td>\n      <td>July 25, 1983</td>\n      <td>She was staying at the Spruce Motel on Pacific...</td>\n    </tr>\n    <tr>\n      <th>41</th>\n      <td>Tracy Winston</td>\n      <td>47.706095</td>\n      <td>-122.325243</td>\n      <td>19</td>\n      <td>September 12, 1983</td>\n      <td>...Tracy Winston was staying with her boyfrien...</td>\n    </tr>\n    <tr>\n      <th>42</th>\n      <td>Wendy Lee Coffield</td>\n      <td>47.252877</td>\n      <td>-122.444291</td>\n      <td>16</td>\n      <td>July 8, 1982</td>\n      <td>...known to work as a street prostitute along ...</td>\n    </tr>\n  </tbody>\n</table>\n</div>",
      "application/papermill.record/text/plain": "                         name   latitude   longitude age  \\\n0              Alma Ann Smith  47.435539 -122.294486  18   \n1      Andrea Marion Childers  47.612925 -122.304973  19   \n2          April Dawn Buttram  47.536954 -122.270295  17   \n3       Carol Ann Christensen  47.469607 -122.287109  21   \n4             Carrie Ann Rois  47.475779 -122.284142  15   \n5             Cheryl Lee Wims  47.584511 -122.305553  18   \n6            Cindy Anne Smith  47.422140 -122.297608  17   \n7      Colleen Renee Brockman  47.592023 -122.326415  15   \n8    Constance Elizabeth Naon  47.435612 -122.294507  20   \n9          Cynthia Jean Hinds  47.422670 -122.296383  17   \n10       Debbie May Abernathy  47.612069 -122.332214  26   \n11       Debra Lorraine Estes  47.301823 -122.312597  15   \n12          Debra Lynn Bonner  47.408226 -122.298240  23   \n13       Delise Louise Plager  47.552585 -122.300937  22   \n14   Delores LaVerne Williams  47.435536 -122.294490  17   \n15         Denise Darcel Bush  47.473158 -122.284547  23   \n16          Gail Lynn Mathews  47.408292 -122.298350  23   \n17         Gisele Ann Lovvorn  47.436210 -122.340680  19   \n18           Kelly Marie Ware  47.618448 -122.303651  22   \n19         Kimberly L. Nelson  47.476839 -122.283171  21   \n20            Kimi-Kai Pitsor  47.605024 -122.334371  16   \n21            Linda Jane Rule  47.716933 -122.345525  16   \n22                 Lisa Yates  47.549709 -122.277116  19   \n23         Marcia Fay Chapman  47.434604 -122.295609  31   \n24               Marta Reeves  47.608758 -122.296424  36   \n25            Marie M. Malvar  47.408797 -122.297953  18   \n26  Martina Theresa Authorlee  47.437655 -122.296528  18   \n27        Mary Bridget Meehan  47.455221 -122.292887  18   \n28          Mary Exzetta West  47.557850 -122.285058  16   \n29             Mary Sue Bello  47.384057 -122.297160  25   \n30         Maureen Sue Feeney  47.614621 -122.312018  19   \n31       Opal Charmaine Mills  47.428313 -122.294627  16   \n32        Pammy Annette Avent  47.536055 -122.275231  16   \n33  Patricia Michelle Barczak  47.478834 -122.284051  19   \n34        Patricia Yellowrobe  47.606209 -122.332071  38   \n35       Roberta Joseph Hayes  47.608863 -122.340071  21   \n36         Sandra Kay Gabbert  47.475769 -122.284166  17   \n37        Shawnda Lee Summers  47.384057 -122.297160  16   \n38     Shirley Marie Sherrill  47.598712 -122.323976  18   \n39        Terry Rene Milligan  47.473157 -122.284543  16   \n40        Tina Marie Thompson  47.473064 -122.284259  22   \n41              Tracy Winston  47.706095 -122.325243  19   \n42         Wendy Lee Coffield  47.252877 -122.444291  16   \n\n                      date                                              notes  \n0            March 3, 1983  Alma Smith was last seen... in front of the Re...  \n1           April 14, 1983  She was last seen in Seattle at a bus stop loc...  \n2          August 18, 1983  Her pimp stated that he last saw her on Rainie...  \n3              May 3, 1983  ... Carol Christensen left the Barn Door Taver...  \n4   May 31 - June 15, 1983  ...the circumstances of her disappearance are ...  \n5             May 23, 1983  ...Cheryl Wims disappeared from the streets of...  \n6           March 21, 1984  ...Cindy left her parents' home in Des Moines ...  \n7        December 24, 1982  Colleen Brockman... made plans to meet an acqu...  \n8             June 8, 1983  ...outside the Red Lion Inn at 188th Street an...  \n9          August 11, 1982  ...Cynthia Hinds was out on Pacific Highway So...  \n10       September 5, 1983  During that period of time, Debbie worked as a...  \n11      September 20, 1982  ...that day, Debra was seen near the Stevenson...  \n12           July 25, 1982  Debra Bonner was last seen alive... when she l...  \n13        October 30, 1983  ...she was dropped off at a bus stop in Seattl...  \n14      March 8 - 17, 1983  ...outside the Red Lion Inn at 188th Street an...  \n15         October 8, 1982  She and an acquaintance were staying at the Mo...  \n16          April 10, 1983  The truck was sitting in the left-hand turn la...  \n17           July 17, 1982  Gisele Lovvorn was... working... on Pacific Hi...  \n18           July 18, 1983  Her sister reported that Kelly was afraid to w...  \n19        November 1, 1983  On October 30, 1983, she was released from the...  \n20          April 17, 1983  Kimi-Kai Pitsor was last seen... at about ten ...  \n21      September 26, 1982  Linda Rule was last seen... while she was on h...  \n22       December 23, 1983  ...last saw Lisa sometime in December 1983. Sh...  \n23          August 1, 1982  Marcia Chapman was living with her three child...  \n24           March 5, 1990  She spent most of her time in the Central Dist...  \n25          April 30, 1983  Marie's boyfriend saw her get into a dark-colo...  \n26            May 22, 1983  ...Martina was living at the Moonrise Motel at...  \n27      September 15, 1982  ...Mary Meehan disappeared some time after 8:3...  \n28        February 6, 1984  ...Mary West worked as a prostitute in Seattle...  \n29        October 11, 1983  ...at approximately five P.M., Mary left downt...  \n30      September 28, 1983  In August 1983, 19-year-old, Maureen Feeney mo...  \n31         August 12, 1982  Opal Mills placed a call to her parents from A...  \n32        October 26, 1983  ...she left her mother's Rainier Valley home i...  \n33        October 17, 1986  She had been staying at the Airporter Motel on...  \n34            January 1998              ...last seen in the Seattle area. [2]  \n35        February 7, 1987  She disappeared sometime in early 1987. The la...  \n36          April 17, 1983  ...last saw her at the 7-Eleven at 142nd and P...  \n37         October 9, 1982  She was known to work as a prostitute along Pa...  \n38   October 20 – 22, 1982  ...last saw Shirley when he dropped her off in...  \n39         August 29, 1982  She - like victims Denish Bush ... and Martina...  \n40           July 25, 1983  She was staying at the Spruce Motel on Pacific...  \n41      September 12, 1983  ...Tracy Winston was staying with her boyfrien...  \n42            July 8, 1982  ...known to work as a street prostitute along ...  "
     },
     "metadata": {
      "scrapbook": {
       "mime_prefix": "application/papermill.record/",
       "name": "df_disappearances_final"
      }
     },
     "output_type": "display_data"
    },
    {
     "data": {
      "application/papermill.record/text/html": "<div>\n<style scoped>\n    .dataframe tbody tr th:only-of-type {\n        vertical-align: middle;\n    }\n\n    .dataframe tbody tr th {\n        vertical-align: top;\n    }\n\n    .dataframe thead th {\n        text-align: right;\n    }\n</style>\n<table border=\"1\" class=\"dataframe\">\n  <thead>\n    <tr style=\"text-align: right;\">\n      <th></th>\n      <th>name</th>\n      <th>latitude</th>\n      <th>longitude</th>\n      <th>notes</th>\n      <th>date</th>\n    </tr>\n  </thead>\n  <tbody>\n    <tr>\n      <th>0</th>\n      <td>Gary Ridgway's Auburn Residence</td>\n      <td>47.289336</td>\n      <td>-122.274885</td>\n      <td>4633 S 348th St, Auburn, WA 98001</td>\n      <td>1997-11-01 -</td>\n    </tr>\n    <tr>\n      <th>1</th>\n      <td>Gary Ridgway's Mother's Residence</td>\n      <td>47.446175</td>\n      <td>-122.278231</td>\n      <td>4404 S 175th St, SeaTac, WA 98188</td>\n      <td>-</td>\n    </tr>\n    <tr>\n      <th>2</th>\n      <td>Gary Ridgeway's Des Moines Residence</td>\n      <td>47.375037</td>\n      <td>-122.305486</td>\n      <td>2136 S 253rd St, Des Moines, WA 98198</td>\n      <td>1989-09-01 - 1997-11-01</td>\n    </tr>\n    <tr>\n      <th>3</th>\n      <td>Gary Ridgway's Sea-Tac Residence</td>\n      <td>47.405191</td>\n      <td>-122.291346</td>\n      <td>21859 32nd Pl S, SeaTac, WA 98198</td>\n      <td>1982-01-01 - 1989-08-01</td>\n    </tr>\n    <tr>\n      <th>4</th>\n      <td>Kenworth Trucking Company</td>\n      <td>47.491662</td>\n      <td>-122.197833</td>\n      <td>1601 N 8th St, Renton, WA 98057</td>\n      <td>1969-01-01 - 2001-11-03</td>\n    </tr>\n  </tbody>\n</table>\n</div>",
      "application/papermill.record/text/plain": "                                   name   latitude   longitude  \\\n0       Gary Ridgway's Auburn Residence  47.289336 -122.274885   \n1     Gary Ridgway's Mother's Residence  47.446175 -122.278231   \n2  Gary Ridgeway's Des Moines Residence  47.375037 -122.305486   \n3      Gary Ridgway's Sea-Tac Residence  47.405191 -122.291346   \n4             Kenworth Trucking Company  47.491662 -122.197833   \n\n                                   notes                     date  \n0      4633 S 348th St, Auburn, WA 98001            1997-11-01 -   \n1      4404 S 175th St, SeaTac, WA 98188                       -   \n2  2136 S 253rd St, Des Moines, WA 98198  1989-09-01 - 1997-11-01  \n3      21859 32nd Pl S, SeaTac, WA 98198  1982-01-01 - 1989-08-01  \n4        1601 N 8th St, Renton, WA 98057  1969-01-01 - 2001-11-03  "
     },
     "metadata": {
      "scrapbook": {
       "mime_prefix": "application/papermill.record/",
       "name": "df_ridgway_final"
      }
     },
     "output_type": "display_data"
    }
   ],
   "source": [
    "glue('df_body_locations_final', df_body_locations_final, display=False)\n",
    "glue('df_disappearances_final', df_disappearances_final, display=False)\n",
    "glue('df_ridgway_final', df_ridgway_final, display=False)"
   ]
  },
  {
   "cell_type": "code",
   "execution_count": 4,
   "id": "20df9a2a-a0a0-4682-863d-495695cbbde7",
   "metadata": {},
   "outputs": [],
   "source": [
    "ACCURACY = 2000\n",
    "BUFFER = 0.1\n",
    "F = 1\n",
    "G = 1\n",
    "\n",
    "LEGEND_LABELS = ['body locations', 'disappearances', 'ridgway']\n",
    "FILL_COLORS = ['#4eeb23', '#0683bd', '#1d1e1f']"
   ]
  },
  {
   "cell_type": "markdown",
   "id": "a4f14d75-e4e3-43a5-b6f4-06cd95a9ae42",
   "metadata": {
    "tags": []
   },
   "source": [
    "## Generate heatmap #1 \n",
    "### (using both body locations as well as disappearance locations for scoring)"
   ]
  },
  {
   "cell_type": "code",
   "execution_count": 5,
   "id": "30ddb1a9-95c6-4a39-9aba-6bd50146801f",
   "metadata": {
    "tags": []
   },
   "outputs": [],
   "source": [
    "rossmo = Rossmo.from_dataframe(\n",
    "    [df_body_locations_final, df_disappearances_final], \n",
    "    accuracy=ACCURACY,\n",
    "    f=F,\n",
    "    g=G,\n",
    "    buffer=BUFFER\n",
    ")"
   ]
  },
  {
   "cell_type": "code",
   "execution_count": 6,
   "id": "dff94df3-6b84-4add-a862-e0c82dea0e60",
   "metadata": {},
   "outputs": [],
   "source": [
    "plot = RossmoPlot(rossmo, [df_body_locations_final, df_disappearances_final, df_ridgway_final])"
   ]
  },
  {
   "cell_type": "code",
   "execution_count": 7,
   "id": "47f39f15-b375-4052-b9a8-891b76a43dff",
   "metadata": {},
   "outputs": [],
   "source": [
    "plot.create_plot(\n",
    "    legend_labels=LEGEND_LABELS,\n",
    "    fill_colors=FILL_COLORS\n",
    ") "
   ]
  },
  {
   "cell_type": "code",
   "execution_count": 8,
   "id": "8f8c03e5-d915-4f01-a335-66d0f020deab",
   "metadata": {},
   "outputs": [],
   "source": [
    "plot.show_plot(output_to_notebook=False, output_html=True, html_filename='map_one')"
   ]
  },
  {
   "cell_type": "markdown",
   "id": "79ba4d5f-122b-4fb7-b370-fa59944b6c28",
   "metadata": {},
   "source": [
    "## Generate heatmap 2\n",
    "### using body locations for scoring"
   ]
  },
  {
   "cell_type": "code",
   "execution_count": 9,
   "id": "6e8d11db-c195-43f0-84cf-ea423ada0417",
   "metadata": {},
   "outputs": [],
   "source": [
    "rossmo_two = Rossmo.from_dataframe(\n",
    "    [df_body_locations_final], \n",
    "    accuracy=ACCURACY,\n",
    "    buffer=BUFFER\n",
    ")\n",
    "\n",
    "plot_two = RossmoPlot(rossmo_two, [df_body_locations_final, df_disappearances_final, df_ridgway_final])\n",
    "\n",
    "plot_two.create_plot(\n",
    "    legend_labels=LEGEND_LABELS,\n",
    "    fill_colors=FILL_COLORS\n",
    ") "
   ]
  },
  {
   "cell_type": "code",
   "execution_count": 10,
   "id": "30831163-b8c9-471f-bc96-2e3563eed39d",
   "metadata": {},
   "outputs": [],
   "source": [
    "plot_two.show_plot(output_to_notebook=False, output_html=True, html_filename='map_two')"
   ]
  },
  {
   "cell_type": "markdown",
   "id": "25ea51d4-a04c-4872-be52-6daafc4975c8",
   "metadata": {},
   "source": [
    "## Generate heatmap 3\n",
    "### using disappearance locations for scoring"
   ]
  },
  {
   "cell_type": "code",
   "execution_count": 11,
   "id": "79ed676a-1326-481c-a4c0-6042bb9c90f3",
   "metadata": {},
   "outputs": [],
   "source": [
    "rossmo_three = Rossmo.from_dataframe(\n",
    "    [df_disappearances_final], \n",
    "    accuracy=ACCURACY,\n",
    "    buffer=BUFFER\n",
    ")\n",
    "\n",
    "plot_three = RossmoPlot(rossmo_three, [df_body_locations_final, df_disappearances_final, df_ridgway_final])\n",
    "\n",
    "plot_three.create_plot(\n",
    "    legend_labels=LEGEND_LABELS,\n",
    "    fill_colors=FILL_COLORS\n",
    ") "
   ]
  },
  {
   "cell_type": "code",
   "execution_count": 12,
   "id": "6a815524-2a12-4e94-bc47-31ee9bcb6d05",
   "metadata": {},
   "outputs": [],
   "source": [
    "plot_three.show_plot(output_to_notebook=False, output_html=True, html_filename='map_three')"
   ]
  }
 ],
 "metadata": {
  "kernelspec": {
   "display_name": "Python 3 (ipykernel)",
   "language": "python",
   "name": "python3"
  },
  "language_info": {
   "codemirror_mode": {
    "name": "ipython",
    "version": 3
   },
   "file_extension": ".py",
   "mimetype": "text/x-python",
   "name": "python",
   "nbconvert_exporter": "python",
   "pygments_lexer": "ipython3",
   "version": "3.9.7"
  }
 },
 "nbformat": 4,
 "nbformat_minor": 5
}
