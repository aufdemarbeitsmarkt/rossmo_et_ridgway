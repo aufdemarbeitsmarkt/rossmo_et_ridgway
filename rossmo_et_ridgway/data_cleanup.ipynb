{
 "cells": [
  {
   "cell_type": "code",
   "execution_count": null,
   "id": "b4d24c0f-a794-4298-bcf8-da34d5e22d50",
   "metadata": {},
   "outputs": [],
   "source": [
    "import pandas as pd"
   ]
  },
  {
   "cell_type": "code",
   "execution_count": null,
   "id": "18e9f683-a051-4987-9e9f-ab532fcafc18",
   "metadata": {},
   "outputs": [],
   "source": [
    "BODY_LOCATIONS_PATH = '../resources/csv/body_locations.csv'\n",
    "RIDGWAY_LOCATIONS_PATH = '../resources/csv/ridgway_locations.csv'\n",
    "DISAPPEARANCES_PATH = '../resources/csv/disappearances.csv'\n",
    "VICTIMS_MAIN_PATH = '../resources/csv/Ridgway-victims_main.csv'\n",
    "RIDGWAY_INFO_PATH = '../resources/csv/Ridgway-ridgway.csv'"
   ]
  },
  {
   "cell_type": "code",
   "execution_count": 12,
   "id": "130dfe60-b6d3-4c8f-9149-b826394b1f90",
   "metadata": {},
   "outputs": [],
   "source": [
    "df_body_locations = pd.read_csv(BODY_LOCATIONS_PATH)\n",
    "df_ridgway = pd.read_csv(RIDGWAY_LOCATIONS_PATH)\n",
    "df_disappearances = pd.read_csv(DISAPPEARANCES_PATH)\n",
    "df_victims_main = pd.read_csv(VICTIMS_MAIN_PATH)\n",
    "df_ridgway_info = pd.read_csv(RIDGWAY_INFO_PATH)"
   ]
  },
  {
   "cell_type": "code",
   "execution_count": 14,
   "id": "cbf14324-a3a7-4d5f-b2a6-2f898cee1838",
   "metadata": {},
   "outputs": [],
   "source": [
    "# clean up column names, drop extraneous 'decription' column\n",
    "for df in [df_disappearances, df_ridgway, df_body_locations]:\n",
    "    df.rename(\n",
    "        columns={'Y': 'latitude', 'X': 'longitude', 'Name': 'name'},\n",
    "        inplace=True\n",
    "    )\n",
    "    df.drop(columns='description', inplace=True)"
   ]
  },
  {
   "cell_type": "code",
   "execution_count": 15,
   "id": "46cc8cfd-a55c-4c90-ba7b-2441b494efdf",
   "metadata": {},
   "outputs": [],
   "source": [
    "# merge informational data with KMZ-sourced location data\n",
    "df_body_locations_final = df_body_locations.merge(df_victims_main, on='name')[['name', 'latitude', 'longitude', 'age', 'body_found_date', 'body_location_notes']]\n",
    "\n",
    "df_disappearances_final = df_disappearances.merge(df_victims_main, on='name')[['name', 'latitude', 'longitude', 'age', 'disappeared_date', 'disappearance_notes']]\n",
    "\n",
    "df_ridgway_final = df_ridgway.merge(df_ridgway_info, on='name')[['name', 'latitude', 'longitude', 'date_start', 'date_end', 'other']]"
   ]
  },
  {
   "cell_type": "code",
   "execution_count": 16,
   "id": "1b677b7b-4dba-49ef-87af-818ad28e87c8",
   "metadata": {},
   "outputs": [],
   "source": [
    "# some extra cleanup to ensure column names are uniform\n",
    "df_ridgway_final.fillna('', inplace=True)\n",
    "df_ridgway_final['date'] = df_ridgway_final['date_start'] + ' - ' + df_ridgway_final['date_end']\n",
    "\n",
    "df_ridgway_final.drop(columns=['date_start', 'date_end'], inplace=True)\n",
    "df_ridgway_final.rename(columns={'other': 'notes'}, inplace=True)\n",
    "\n",
    "df_body_locations_final.rename(columns={'body_found_date': 'date', 'body_location_notes': 'notes'}, inplace=True)\n",
    "df_disappearances_final.rename(columns={'disappeared_date': 'date', 'disappearance_notes': 'notes'}, inplace=True)"
   ]
  },
  {
   "cell_type": "code",
   "execution_count": null,
   "id": "eb9d5727-5168-4bf2-bbc1-3d5887cc9f6a",
   "metadata": {},
   "outputs": [],
   "source": []
  },
  {
   "cell_type": "code",
   "execution_count": 17,
   "id": "6b80732c-8c66-47ee-a05b-0b4ed213a694",
   "metadata": {},
   "outputs": [
    {
     "name": "stdout",
     "output_type": "stream",
     "text": [
      "Stored 'df_body_locations_final' (DataFrame)\n",
      "Stored 'df_disappearances_final' (DataFrame)\n",
      "Stored 'df_ridgway_final' (DataFrame)\n"
     ]
    }
   ],
   "source": [
    "# store the variables for use in the main `generate_maps.ipynb` notebook\n",
    "%store df_body_locations_final\n",
    "%store df_disappearances_final\n",
    "%store df_ridgway_final"
   ]
  }
 ],
 "metadata": {
  "kernelspec": {
   "display_name": "Python 3 (ipykernel)",
   "language": "python",
   "name": "python3"
  },
  "language_info": {
   "codemirror_mode": {
    "name": "ipython",
    "version": 3
   },
   "file_extension": ".py",
   "mimetype": "text/x-python",
   "name": "python",
   "nbconvert_exporter": "python",
   "pygments_lexer": "ipython3",
   "version": "3.9.7"
  },
  "vscode": {
   "interpreter": {
    "hash": "31f2aee4e71d21fbe5cf8b01ff0e069b9275f58929596ceb00d14d90e3e16cd6"
   }
  }
 },
 "nbformat": 4,
 "nbformat_minor": 5
}
