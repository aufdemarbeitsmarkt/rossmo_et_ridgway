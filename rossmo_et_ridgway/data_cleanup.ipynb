{
 "cells": [
  {
   "cell_type": "code",
   "execution_count": null,
   "id": "b4d24c0f-a794-4298-bcf8-da34d5e22d50",
   "metadata": {},
   "outputs": [],
   "source": [
    "import pandas as pd"
   ]
  },
  {
   "cell_type": "code",
   "execution_count": null,
   "id": "18e9f683-a051-4987-9e9f-ab532fcafc18",
   "metadata": {},
   "outputs": [],
   "source": [
    "body_locations_path = '../resources/csv/body_locations.csv'\n",
    "ridgway_locations_path = '../resources/csv/ridgway_locations.csv'\n",
    "disappearances_path = '../resources/csv/disappearances.csv'\n",
    "victims_main_path = '../resources/csv/Ridgway-victims_main.csv'\n",
    "ridgway_info_path = '../resources/csv/Ridgway-ridgway.csv'"
   ]
  },
  {
   "cell_type": "code",
   "execution_count": 12,
   "id": "130dfe60-b6d3-4c8f-9149-b826394b1f90",
   "metadata": {},
   "outputs": [],
   "source": [
    "df_body_locations = pd.read_csv(body_locations_path)\n",
    "df_ridgway = pd.read_csv(ridgway_locations_path)\n",
    "df_disappearances = pd.read_csv(disappearances_path)\n",
    "df_victims_main = pd.read_csv(victims_main_path)\n",
    "df_ridgway_info = pd.read_csv(ridgway_info_path)"
   ]
  },
  {
   "cell_type": "code",
   "execution_count": 13,
   "id": "f3a598cf-e829-4850-a949-19e79bd67794",
   "metadata": {},
   "outputs": [
    {
     "data": {
      "text/html": [
       "<div>\n",
       "<style scoped>\n",
       "    .dataframe tbody tr th:only-of-type {\n",
       "        vertical-align: middle;\n",
       "    }\n",
       "\n",
       "    .dataframe tbody tr th {\n",
       "        vertical-align: top;\n",
       "    }\n",
       "\n",
       "    .dataframe thead th {\n",
       "        text-align: right;\n",
       "    }\n",
       "</style>\n",
       "<table border=\"1\" class=\"dataframe\">\n",
       "  <thead>\n",
       "    <tr style=\"text-align: right;\">\n",
       "      <th></th>\n",
       "      <th>X</th>\n",
       "      <th>Y</th>\n",
       "      <th>Name</th>\n",
       "      <th>description</th>\n",
       "    </tr>\n",
       "  </thead>\n",
       "  <tbody>\n",
       "    <tr>\n",
       "      <th>0</th>\n",
       "      <td>-122.274885</td>\n",
       "      <td>47.289336</td>\n",
       "      <td>Gary Ridgway's Auburn Residence</td>\n",
       "      <td>NaN</td>\n",
       "    </tr>\n",
       "    <tr>\n",
       "      <th>1</th>\n",
       "      <td>-122.278231</td>\n",
       "      <td>47.446175</td>\n",
       "      <td>Gary Ridgway's Mother's Residence</td>\n",
       "      <td>NaN</td>\n",
       "    </tr>\n",
       "    <tr>\n",
       "      <th>2</th>\n",
       "      <td>-122.305486</td>\n",
       "      <td>47.375037</td>\n",
       "      <td>Gary Ridgeway's Des Moines Residence</td>\n",
       "      <td>NaN</td>\n",
       "    </tr>\n",
       "    <tr>\n",
       "      <th>3</th>\n",
       "      <td>-122.291346</td>\n",
       "      <td>47.405191</td>\n",
       "      <td>Gary Ridgway's Sea-Tac Residence</td>\n",
       "      <td>NaN</td>\n",
       "    </tr>\n",
       "    <tr>\n",
       "      <th>4</th>\n",
       "      <td>-122.197833</td>\n",
       "      <td>47.491662</td>\n",
       "      <td>Kenworth Trucking Company</td>\n",
       "      <td>NaN</td>\n",
       "    </tr>\n",
       "  </tbody>\n",
       "</table>\n",
       "</div>"
      ],
      "text/plain": [
       "            X          Y                                  Name  description\n",
       "0 -122.274885  47.289336       Gary Ridgway's Auburn Residence          NaN\n",
       "1 -122.278231  47.446175     Gary Ridgway's Mother's Residence          NaN\n",
       "2 -122.305486  47.375037  Gary Ridgeway's Des Moines Residence          NaN\n",
       "3 -122.291346  47.405191      Gary Ridgway's Sea-Tac Residence          NaN\n",
       "4 -122.197833  47.491662             Kenworth Trucking Company          NaN"
      ]
     },
     "execution_count": 13,
     "metadata": {},
     "output_type": "execute_result"
    }
   ],
   "source": [
    "df_ridgway"
   ]
  },
  {
   "cell_type": "code",
   "execution_count": 14,
   "id": "cbf14324-a3a7-4d5f-b2a6-2f898cee1838",
   "metadata": {},
   "outputs": [],
   "source": [
    "# clean up column names, drop extraneous 'decription' column\n",
    "for df in [df_disappearances, df_ridgway, df_body_locations]:\n",
    "    df.rename(\n",
    "        columns={'Y': 'latitude', 'X': 'longitude', 'Name': 'name'},\n",
    "        inplace=True\n",
    "    )\n",
    "    df.drop(columns='description', inplace=True)"
   ]
  },
  {
   "cell_type": "code",
   "execution_count": 15,
   "id": "46cc8cfd-a55c-4c90-ba7b-2441b494efdf",
   "metadata": {},
   "outputs": [],
   "source": [
    "# merge informational data with KMZ-sourced location data\n",
    "df_body_locations_final = df_body_locations.merge(df_victims_main, on='name')[['name', 'latitude', 'longitude', 'age', 'body_found_date', 'body_location_notes']]\n",
    "\n",
    "df_disappearances_final = df_disappearances.merge(df_victims_main, on='name')[['name', 'latitude', 'longitude', 'age', 'disappeared_date', 'disappearance_notes']]\n",
    "\n",
    "df_ridgway_final = df_ridgway.merge(df_ridgway_info, on='name')[['name', 'latitude', 'longitude', 'date_start', 'date_end', 'other']]"
   ]
  },
  {
   "cell_type": "code",
   "execution_count": 16,
   "id": "1b677b7b-4dba-49ef-87af-818ad28e87c8",
   "metadata": {},
   "outputs": [],
   "source": [
    "# some extra cleanup to ensure column names are uniform\n",
    "df_ridgway_final.fillna('', inplace=True)\n",
    "df_ridgway_final['date'] = df_ridgway_final['date_start'] + ' - ' + df_ridgway_final['date_end']\n",
    "\n",
    "df_ridgway_final.drop(columns=['date_start', 'date_end'], inplace=True)\n",
    "df_ridgway_final.rename(columns={'other': 'notes'}, inplace=True)\n",
    "\n",
    "df_body_locations_final.rename(columns={'body_found_date': 'date', 'body_location_notes': 'notes'}, inplace=True)\n",
    "df_disappearances_final.rename(columns={'disappeared_date': 'date', 'disappearance_notes': 'notes'}, inplace=True)"
   ]
  },
  {
   "cell_type": "code",
   "execution_count": 8,
   "id": "6b80732c-8c66-47ee-a05b-0b4ed213a694",
   "metadata": {},
   "outputs": [
    {
     "name": "stdout",
     "output_type": "stream",
     "text": [
      "Stored 'df_body_locations_final' (DataFrame)\n",
      "Stored 'df_disappearances_final' (DataFrame)\n",
      "Stored 'df_ridgway_final' (DataFrame)\n"
     ]
    }
   ],
   "source": [
    "# store the variables for use in the main notebook\n",
    "%store df_body_locations_final\n",
    "%store df_disappearances_final\n",
    "%store df_ridgway_final"
   ]
  }
 ],
 "metadata": {
  "kernelspec": {
   "display_name": "Python 3 (ipykernel)",
   "language": "python",
   "name": "python3"
  },
  "language_info": {
   "codemirror_mode": {
    "name": "ipython",
    "version": 3
   },
   "file_extension": ".py",
   "mimetype": "text/x-python",
   "name": "python",
   "nbconvert_exporter": "python",
   "pygments_lexer": "ipython3",
   "version": "3.9.7"
  }
 },
 "nbformat": 4,
 "nbformat_minor": 5
}
