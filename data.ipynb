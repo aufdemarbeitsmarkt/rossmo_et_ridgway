{
 "cells": [
  {
   "cell_type": "markdown",
   "id": "37374dd3-3260-407d-9c23-0442d0a28500",
   "metadata": {},
   "source": [
    "# Data"
   ]
  },
  {
   "cell_type": "code",
   "execution_count": 1,
   "id": "0b12ac74-bed2-44de-9a07-35671e3c180a",
   "metadata": {
    "tags": [
     "remove-input"
    ]
   },
   "outputs": [],
   "source": [
    "from IPython.display import IFrame"
   ]
  },
  {
   "cell_type": "markdown",
   "id": "d291d419-f06a-44b5-9d02-22d1d5d5ee6c",
   "metadata": {},
   "source": [
    "## Dataset"
   ]
  },
  {
   "cell_type": "code",
   "execution_count": null,
   "id": "f3da5b15-b802-4e2f-9562-5c97fc3c6a27",
   "metadata": {},
   "outputs": [],
   "source": [
    "https://docs.google.com/spreadsheets/d/e/2PACX-1vS6_nwUKXuuaXG4ZuJpHXRNnjxQcua2EofS5o3qiFsz1e-2yZtU1kJd3WjUgnbLrjcxgZCuZxFF2dyu/pubhtml?widget=true&amp;headers=false"
   ]
  },
  {
   "cell_type": "code",
   "execution_count": null,
   "id": "52be9e05-da07-46b2-bda3-e63ee2fa861c",
   "metadata": {
    "tags": [
     "remove-input"
    ]
   },
   "outputs": [],
   "source": [
    "IFrame('https://docs.google.com/spreadsheets/d/e/2PACX-1vS6_nwUKXuuaXG4ZuJpHXRNnjxQcua2EofS5o3qiFsz1e-2yZtU1kJd3WjUgnbLrjcxgZCuZxFF2dyu/pubhtml?widget=true&amp;headers=false', width=1080, height=800)"
   ]
  },
  {
   "cell_type": "markdown",
   "id": "9d636e09-6c73-461b-a782-846b4a3526c4",
   "metadata": {
    "tags": []
   },
   "source": [
    "## Map w/ plotted locations"
   ]
  },
  {
   "cell_type": "code",
   "execution_count": null,
   "id": "b4dfbe39-ac72-4431-bb1d-39fb9a81ad4a",
   "metadata": {},
   "outputs": [],
   "source": [
    "https://www.google.com/maps/d/embed?mid=1Yi_bBgafpAsaKXrsnj7LVg_Z_GThtAv9&ehbc=2E312F"
   ]
  },
  {
   "cell_type": "code",
   "execution_count": null,
   "id": "f24a0455-ab20-4f55-a452-b036b9bb4646",
   "metadata": {
    "tags": [
     "remove-input"
    ]
   },
   "outputs": [],
   "source": [
    "IFrame('https://www.google.com/maps/d/embed?mid=1Yi_bBgafpAsaKXrsnj7LVg_Z_GThtAv9&ehbc=2E312F', width=1080, height=960)"
   ]
  }
 ],
 "metadata": {
  "kernelspec": {
   "display_name": "Python 3 (ipykernel)",
   "language": "python",
   "name": "python3"
  },
  "language_info": {
   "codemirror_mode": {
    "name": "ipython",
    "version": 3
   },
   "file_extension": ".py",
   "mimetype": "text/x-python",
   "name": "python",
   "nbconvert_exporter": "python",
   "pygments_lexer": "ipython3",
   "version": "3.9.7"
  }
 },
 "nbformat": 4,
 "nbformat_minor": 5
}
