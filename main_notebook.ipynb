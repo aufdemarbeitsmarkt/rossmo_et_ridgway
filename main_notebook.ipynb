{
 "cells": [
  {
   "cell_type": "code",
   "execution_count": 1,
   "id": "84569742-ae8d-4766-a3ad-bbd6fc5744af",
   "metadata": {},
   "outputs": [],
   "source": [
    "import gmaps\n",
    "import matplotlib.pyplot as plt\n",
    "import numpy as np\n",
    "import pandas as pd\n",
    "\n",
    "from config import g_key\n",
    "from rossmo_et_ridgway import Rossmo\n",
    "\n",
    "gmaps.configure(api_key=g_key)"
   ]
  },
  {
   "cell_type": "markdown",
   "id": "f3b1d56d-ee3a-4d40-bd90-1b996cfbac04",
   "metadata": {},
   "source": [
    "### Notes\n",
    "\n",
    "* Ridgway notes need to be combined with csv sheets, methinks. \n",
    "    * https://docs.google.com/spreadsheets/d/1NHHZEL_3UaFRxgpGcsWyooXnLL-YStYilmb8TJ-JMC4/edit#gid=0\n",
    "    \n",
    "* max_distance() in rossmo_et_ridgway needs to exclude outliers, e.g. the max distance for ridgway is 160 miles, which gives a HUGE radius. \n",
    "* I also need to review how to scale the heatmap better -- perhaps normalize the output from 0 to 1. \n",
    "\n",
    "* Gmaps doc\n",
    "    * https://jupyter-gmaps.readthedocs.io/en/latest/api.html"
   ]
  },
  {
   "cell_type": "code",
   "execution_count": 2,
   "id": "1e82cfa1-3b36-4d88-b103-fae2fb750261",
   "metadata": {},
   "outputs": [],
   "source": [
    "body_locations_path = 'resources/Ridgway/body_locations.csv'\n",
    "disappearances_path = 'resources/Ridgway/disappearances.csv'\n",
    "ridgway_locations_path = 'resources/Ridgway/ridgway_locations.csv'\n",
    "\n",
    "df_victims = pd.read_csv(body_locations_path)\n",
    "df_disappearances = pd.read_csv(disappearances_path)\n",
    "df_ridgway = pd.read_csv(ridgway_locations_path)\n",
    "\n",
    "df_disappearances['Coordinates'] = list(zip(df_disappearances['Y'], df_disappearances['X']))"
   ]
  },
  {
   "cell_type": "code",
   "execution_count": 3,
   "id": "38678ac3",
   "metadata": {},
   "outputs": [],
   "source": [
    "R = Rossmo(df_disappearances['Coordinates'].to_list(), accuracy=100, max_distance=10)"
   ]
  },
  {
   "cell_type": "code",
   "execution_count": 4,
   "id": "c408c133",
   "metadata": {},
   "outputs": [],
   "source": [
    "rossmo_results = R.rossmo_formula"
   ]
  },
  {
   "cell_type": "code",
   "execution_count": 5,
   "id": "703bd0de",
   "metadata": {
    "scrolled": true
   },
   "outputs": [],
   "source": [
    "df_rossmo_results = pd.DataFrame({'Coordinates': rossmo_results.keys(), 'Score': rossmo_results.values()})"
   ]
  },
  {
   "cell_type": "code",
   "execution_count": 6,
   "id": "355b1630",
   "metadata": {},
   "outputs": [
    {
     "data": {
      "text/html": [
       "<div>\n",
       "<style scoped>\n",
       "    .dataframe tbody tr th:only-of-type {\n",
       "        vertical-align: middle;\n",
       "    }\n",
       "\n",
       "    .dataframe tbody tr th {\n",
       "        vertical-align: top;\n",
       "    }\n",
       "\n",
       "    .dataframe thead th {\n",
       "        text-align: right;\n",
       "    }\n",
       "</style>\n",
       "<table border=\"1\" class=\"dataframe\">\n",
       "  <thead>\n",
       "    <tr style=\"text-align: right;\">\n",
       "      <th></th>\n",
       "      <th>Coordinates</th>\n",
       "      <th>Score</th>\n",
       "      <th>Score Normalized</th>\n",
       "    </tr>\n",
       "  </thead>\n",
       "  <tbody>\n",
       "    <tr>\n",
       "      <th>0</th>\n",
       "      <td>(47.10794926376812, -122.05736057521226)</td>\n",
       "      <td>56.633619</td>\n",
       "      <td>0.069006</td>\n",
       "    </tr>\n",
       "    <tr>\n",
       "      <th>1</th>\n",
       "      <td>(47.10794926376812, -122.06345090900918)</td>\n",
       "      <td>56.914033</td>\n",
       "      <td>0.073569</td>\n",
       "    </tr>\n",
       "    <tr>\n",
       "      <th>2</th>\n",
       "      <td>(47.10794926376812, -122.06954124280611)</td>\n",
       "      <td>57.198756</td>\n",
       "      <td>0.078203</td>\n",
       "    </tr>\n",
       "    <tr>\n",
       "      <th>3</th>\n",
       "      <td>(47.10794926376812, -122.07563157660303)</td>\n",
       "      <td>57.487903</td>\n",
       "      <td>0.082909</td>\n",
       "    </tr>\n",
       "    <tr>\n",
       "      <th>4</th>\n",
       "      <td>(47.10794926376812, -122.08172191039996)</td>\n",
       "      <td>57.781592</td>\n",
       "      <td>0.087689</td>\n",
       "    </tr>\n",
       "    <tr>\n",
       "      <th>...</th>\n",
       "      <td>...</td>\n",
       "      <td>...</td>\n",
       "      <td>...</td>\n",
       "    </tr>\n",
       "    <tr>\n",
       "      <th>9995</th>\n",
       "      <td>(47.86186073623188, -122.63594228592022)</td>\n",
       "      <td>54.790187</td>\n",
       "      <td>0.039004</td>\n",
       "    </tr>\n",
       "    <tr>\n",
       "      <th>9996</th>\n",
       "      <td>(47.86186073623188, -122.64203261971716)</td>\n",
       "      <td>54.538841</td>\n",
       "      <td>0.034914</td>\n",
       "    </tr>\n",
       "    <tr>\n",
       "      <th>9997</th>\n",
       "      <td>(47.86186073623188, -122.64812295351408)</td>\n",
       "      <td>54.291038</td>\n",
       "      <td>0.030881</td>\n",
       "    </tr>\n",
       "    <tr>\n",
       "      <th>9998</th>\n",
       "      <td>(47.86186073623188, -122.65421328731101)</td>\n",
       "      <td>54.046693</td>\n",
       "      <td>0.026904</td>\n",
       "    </tr>\n",
       "    <tr>\n",
       "      <th>9999</th>\n",
       "      <td>(47.86186073623188, -122.66030362110793)</td>\n",
       "      <td>53.805722</td>\n",
       "      <td>0.022982</td>\n",
       "    </tr>\n",
       "  </tbody>\n",
       "</table>\n",
       "<p>10000 rows × 3 columns</p>\n",
       "</div>"
      ],
      "text/plain": [
       "                                   Coordinates      Score  Score Normalized\n",
       "0     (47.10794926376812, -122.05736057521226)  56.633619          0.069006\n",
       "1     (47.10794926376812, -122.06345090900918)  56.914033          0.073569\n",
       "2     (47.10794926376812, -122.06954124280611)  57.198756          0.078203\n",
       "3     (47.10794926376812, -122.07563157660303)  57.487903          0.082909\n",
       "4     (47.10794926376812, -122.08172191039996)  57.781592          0.087689\n",
       "...                                        ...        ...               ...\n",
       "9995  (47.86186073623188, -122.63594228592022)  54.790187          0.039004\n",
       "9996  (47.86186073623188, -122.64203261971716)  54.538841          0.034914\n",
       "9997  (47.86186073623188, -122.64812295351408)  54.291038          0.030881\n",
       "9998  (47.86186073623188, -122.65421328731101)  54.046693          0.026904\n",
       "9999  (47.86186073623188, -122.66030362110793)  53.805722          0.022982\n",
       "\n",
       "[10000 rows x 3 columns]"
      ]
     },
     "execution_count": 6,
     "metadata": {},
     "output_type": "execute_result"
    }
   ],
   "source": [
    "df_rossmo_results['Score Normalized'] = (df_rossmo_results['Score'] - df_rossmo_results['Score'].min()) / (df_rossmo_results['Score'].max() - df_rossmo_results['Score'].min())    \n",
    "df_rossmo_results"
   ]
  },
  {
   "cell_type": "code",
   "execution_count": 7,
   "id": "9e51855f",
   "metadata": {},
   "outputs": [
    {
     "data": {
      "text/plain": [
       "Coordinates         3662\n",
       "Score               3662\n",
       "Score Normalized    3662\n",
       "dtype: int64"
      ]
     },
     "execution_count": 7,
     "metadata": {},
     "output_type": "execute_result"
    }
   ],
   "source": [
    "greater_than_ninety = df_rossmo_results.loc[\n",
    "    (df_rossmo_results['Score Normalized'] > 0.50)\n",
    "]\n",
    "greater_than_ninety.count()"
   ]
  },
  {
   "cell_type": "code",
   "execution_count": 8,
   "id": "4aaf5ab7",
   "metadata": {
    "scrolled": true
   },
   "outputs": [
    {
     "data": {
      "text/plain": [
       "count    10000.000000\n",
       "mean         0.429269\n",
       "std          0.216455\n",
       "min          0.000000\n",
       "25%          0.253906\n",
       "50%          0.402954\n",
       "75%          0.608983\n",
       "max          1.000000\n",
       "Name: Score Normalized, dtype: float64"
      ]
     },
     "execution_count": 8,
     "metadata": {},
     "output_type": "execute_result"
    }
   ],
   "source": [
    "df_rossmo_results['Score Normalized'].describe()"
   ]
  },
  {
   "cell_type": "code",
   "execution_count": 9,
   "id": "9a3eaee9",
   "metadata": {},
   "outputs": [
    {
     "data": {
      "text/plain": [
       "<Figure size 1440x1008 with 0 Axes>"
      ]
     },
     "execution_count": 9,
     "metadata": {},
     "output_type": "execute_result"
    },
    {
     "data": {
      "image/png": "[encoded data removed]",
      "text/plain": [
       "<Figure size 432x288 with 1 Axes>"
      ]
     },
     "metadata": {
      "needs_background": "light"
     },
     "output_type": "display_data"
    },
    {
     "data": {
      "text/plain": [
       "<Figure size 1440x1008 with 0 Axes>"
      ]
     },
     "metadata": {},
     "output_type": "display_data"
    }
   ],
   "source": [
    "df_rossmo_results['Score'].plot(kind='hist')\n",
    "plt.figure(figsize=(20,14))"
   ]
  },
  {
   "cell_type": "code",
   "execution_count": 10,
   "id": "4e4a13ae-b195-4d89-b7f2-a2bcc33b6dcb",
   "metadata": {},
   "outputs": [],
   "source": [
    "info_box_template = '''\n",
    "<dl>\n",
    "<dt><strong>Victim</strong></dt><dd>{Name}</dd>\n",
    "</dl>\n",
    "'''\n",
    "victims_info = [info_box_template.format(**row) for index, row in df_disappearances.iterrows()]"
   ]
  },
  {
   "cell_type": "code",
   "execution_count": 12,
   "id": "4284973e-2b7a-4c6f-90dc-0a78853b21a0",
   "metadata": {},
   "outputs": [
    {
     "data": {
      "application/vnd.jupyter.widget-view+json": {
       "model_id": "05296f8f321f40f5b95366c3307baa4a",
       "version_major": 2,
       "version_minor": 0
      },
      "text/plain": [
       "Figure(layout=FigureLayout(height='420px'))"
      ]
     },
     "metadata": {},
     "output_type": "display_data"
    }
   ],
   "source": [
    "map_center = (np.median(df_disappearances['Y']), np.median(df_disappearances['X']))\n",
    "fig = gmaps.figure(center=map_center, zoom_level=8)\n",
    "\n",
    "marker_layer = gmaps.marker_layer(\n",
    "    df_disappearances['Coordinates'], \n",
    "    info_box_content=victims_info\n",
    ")\n",
    "heat_layer = gmaps.heatmap_layer(\n",
    "    df_rossmo_results['Coordinates'],\n",
    "    weights=df_rossmo_results['Score'],\n",
    "    dissipating=False,\n",
    "    opacity=0.4,\n",
    "    point_radius=0.05\n",
    ")\n",
    "# gradient (list of colors, optional) – The color gradient for the heatmap. This must be specified as a list of colors. Google Maps then interpolates linearly between those colors. Colors can be specified as a simple string, e.g. ‘blue’, as an RGB tuple, e.g. (100, 0, 0), or as an RGBA tuple, e.g. (100, 0, 0, 0.5).\n",
    "fig.add_layer(marker_layer)\n",
    "fig.add_layer(heat_layer)\n",
    "\n",
    "fig "
   ]
  },
  {
   "cell_type": "code",
   "execution_count": null,
   "id": "a608d7b2-dda5-46cd-a090-c82b2f68563a",
   "metadata": {},
   "outputs": [],
   "source": []
  }
 ],
 "metadata": {
  "kernelspec": {
   "display_name": "Python 3 (ipykernel)",
   "language": "python",
   "name": "python3"
  },
  "language_info": {
   "codemirror_mode": {
    "name": "ipython",
    "version": 3
   },
   "file_extension": ".py",
   "mimetype": "text/x-python",
   "name": "python",
   "nbconvert_exporter": "python",
   "pygments_lexer": "ipython3",
   "version": "3.9.7"
  }
 },
 "nbformat": 4,
 "nbformat_minor": 5
}
